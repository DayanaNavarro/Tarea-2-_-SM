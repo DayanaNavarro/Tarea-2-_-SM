{
 "cells": [
  {
   "cell_type": "markdown",
   "metadata": {},
   "source": [
    "# Python se está convirtiendo en el lenguaje de codificación más popular del mundo\n",
    "\n",
    "**“Pero es poco probable que sus rivales desaparezcan”**\n",
    "\n",
    "> \"CIERTAMENTE no me propuse crear un lenguaje destinado al consumo masivo\", dice Guido van Rossum, un informático holandés que ideó Python, un lenguaje de programación, en 1989. Pero casi tres décadas después, su invención ha superado casi todos sus rivales y llevaron la codificación a la punta de los dedos de personas que alguna vez estuvieron desconcertadas por él.\n",
    "\n",
    "Las dos ventajas principales del lenguaje son su simplicidad y flexibilidad. Su sintaxis directa y el uso de sangrías hacen que sea fácil de aprender, leer y compartir. Sus ávidos practicantes, conocidos como Pythonistas, han subido 145,000 paquetes de software personalizados a un repositorio en línea. Estos cubren todo, desde el desarrollo del juego hasta la astronomía, y se pueden instalar e insertar en un programa Python en cuestión de segundos. Esta versatilidad significa que la Agencia Central de Inteligencia lo ha utilizado para hackear, Google para rastrear páginas web, Pixar para producir películas y Spotify para recomendar canciones.\n",
    "\n",
    "Con una base de usuarios de tan rápido crecimiento y una amplia gama de capacidades, Python puede parecer destinado a convertirse en el lenguaje franco de la codificación, dejando obsoletos a todos los demás competidores.\n",
    "\n",
    "\n",
    "Aunque a veces un poder ascendente podría estar preparado para dominar el mundo, sus rivales generalmente sobreviven en los nichos técnicos y culturales en los que emergieron.\n",
    "\n",
    "Además, los Pythonistas que dan por sentado la supremacía de su lenguaje deben tener cuidado. Fortran, Lisp y Ada fueron muy populares en las décadas de 1980 y 1990, según el índice TIOBE, que rastrea las prácticas de codificación entre los desarrolladores profesionales. Su uso se ha desplomado, ya que se han puesto a disposición opciones más eficientes. Ningún imperio, independientemente de su poder, puede durar para siempre.\n"
   ]
  }
 ],
 "metadata": {
  "kernelspec": {
   "display_name": "Python 3",
   "language": "python",
   "name": "python3"
  },
  "language_info": {
   "codemirror_mode": {
    "name": "ipython",
    "version": 3
   },
   "file_extension": ".py",
   "mimetype": "text/x-python",
   "name": "python",
   "nbconvert_exporter": "python",
   "pygments_lexer": "ipython3",
   "version": "3.7.3"
  }
 },
 "nbformat": 4,
 "nbformat_minor": 2
}
