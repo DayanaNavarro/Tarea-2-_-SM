{
 "cells": [
  {
   "cell_type": "markdown",
   "metadata": {},
   "source": [
    "\n",
    "# ¿LENGUAJE DE PROGRAMACIÓN DEL AÑO? PYTHON SE ENCUENTRA HASTA ARRIBA DE LOS ÚLTIMOS RANKINGS\n",
    "\n",
    "**“Python consolida su lugar como un lenguaje de programación entre los tres primeros a largo plazo”**\n",
    "\n",
    "> Python ha consolidado su lugar entre los tres principales lenguajes de programación más populares, habiendo visto el mayor aumento de cualquier lenguaje en las clasificaciones basadas en motores de búsqueda Tiobe.\n",
    "\n",
    "El índice Tiobe y otras clasificaciones de popularidad de IEEE Spectrum y PYPL ofrecen a los programadores una forma de evaluar en qué lenguajes vale la pena invertir tiempo. David Gewirtz de ZDNet ha escrito un artículo muy informativo sobre cómo los desarrolladores pueden abordar esta pregunta utilizando una variedad de índices y fuentes además de las clasificaciones de popularidad.\n",
    "\n",
    "Python ganó 3.62 puntos porcentuales año tras año en el índice de enero del 2019 de Tiobe, superando los aumentos de Visual Basic .NET y Java, el segundo y el tercer mayor ganador. Python fue creado en 1989 por el programador holandés Guido van Rossum, quien renunció a su papel de *\"dictador benevolente de por vida\"* de Python en julio.\n",
    "\n",
    "También es el lenguaje más popular entre los hackers informáticos, gracias a su sintaxis que es muy fácil de entender, a su amplia disponibilidad de tutoriales en línea y una gran cantidad de bibliotecas de software de terceros inofensivas que pueden reutilizarse para uso malicioso. Se puede concluir que el que sea un lenguaje sencillo de entender tiene sus pros y sus contras.\n",
    "\n",
    "Los desarrolladores con proyectos construidos con Python 2 deben tomar nota de un anuncio reciente de los desarrolladores de Python de que el soporte para esta versión finalizará el 1 de enero de 2020. El cambio requiere que todos los proyectos se trasladen a Python 3, que será la única versión que recibirá gratis y apoyo oficial.\n"
   ]
  }
 ],
 "metadata": {
  "kernelspec": {
   "display_name": "Python 3",
   "language": "python",
   "name": "python3"
  },
  "language_info": {
   "codemirror_mode": {
    "name": "ipython",
    "version": 3
   },
   "file_extension": ".py",
   "mimetype": "text/x-python",
   "name": "python",
   "nbconvert_exporter": "python",
   "pygments_lexer": "ipython3",
   "version": "3.7.3"
  }
 },
 "nbformat": 4,
 "nbformat_minor": 2
}
